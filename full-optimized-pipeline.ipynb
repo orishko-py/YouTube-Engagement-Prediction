{
 "cells": [
  {
   "cell_type": "markdown",
   "metadata": {},
   "source": [
    "# Datatonic Data Project - Team Ginference - Engagement Inference for Trending Youtube Videos"
   ]
  },
  {
   "cell_type": "code",
   "execution_count": 1,
   "metadata": {},
   "outputs": [
    {
     "name": "stderr",
     "output_type": "stream",
     "text": [
      "/opt/conda/lib/python3.7/site-packages/nltk/twitter/__init__.py:20: UserWarning: The twython library has not been installed. Some functionality from the twitter package will not be available.\n",
      "  warnings.warn(\"The twython library has not been installed. \"\n"
     ]
    },
    {
     "name": "stdout",
     "output_type": "stream",
     "text": [
      "[nltk_data] Downloading package stopwords to /usr/share/nltk_data...\n",
      "[nltk_data]   Package stopwords is already up-to-date!\n",
      "[nltk_data] Downloading package vader_lexicon to\n",
      "[nltk_data]     /usr/share/nltk_data...\n",
      "[nltk_data]   Package vader_lexicon is already up-to-date!\n"
     ]
    },
    {
     "data": {
      "text/plain": [
       "True"
      ]
     },
     "execution_count": 1,
     "metadata": {},
     "output_type": "execute_result"
    }
   ],
   "source": [
    "import numpy as np\n",
    "import pandas as pd\n",
    "import matplotlib.pyplot as plt\n",
    "import seaborn as sns\n",
    "import string\n",
    "import pickle\n",
    "import requests\n",
    "import cv2\n",
    "import nltk\n",
    "import missingno\n",
    "import emoji\n",
    "import regex\n",
    "import re\n",
    "import time\n",
    "\n",
    "from sklearn import model_selection\n",
    "from sklearn.feature_extraction.text import TfidfTransformer, CountVectorizer\n",
    "from sklearn.model_selection import train_test_split, GridSearchCV\n",
    "from sklearn.metrics import mean_absolute_error\n",
    "from sklearn.svm import SVR\n",
    "from sklearn.naive_bayes import MultinomialNB\n",
    "\n",
    "from PIL import Image\n",
    "from io import BytesIO\n",
    "from collections import Counter\n",
    "from gensim import corpora\n",
    "from numpy import linalg as LA\n",
    "from nltk.sentiment.vader import SentimentIntensityAnalyzer\n",
    "from nltk.corpus import stopwords\n",
    "from nltk import word_tokenize\n",
    "\n",
    "from prepare_features import *\n",
    "%matplotlib inline\n",
    "nltk.download('stopwords')\n",
    "nltk.download('vader_lexicon')"
   ]
  },
  {
   "cell_type": "markdown",
   "metadata": {},
   "source": [
    "## Loading and Preprocessing <a id=\"2\"></a>"
   ]
  },
  {
   "cell_type": "code",
   "execution_count": 2,
   "metadata": {},
   "outputs": [],
   "source": [
    "df_gb = pd.read_csv('../input/youtube-new/GBvideos.csv')\n",
    "df_us = pd.read_csv('../input/youtube-new/USvideos.csv')"
   ]
  },
  {
   "cell_type": "code",
   "execution_count": 3,
   "metadata": {},
   "outputs": [],
   "source": [
    "# concatenate GB and US dataframes\n",
    "df = pd.concat([df_gb, df_us])\n",
    "df = df.drop_duplicates(subset = ['video_id', 'trending_date'])"
   ]
  },
  {
   "cell_type": "code",
   "execution_count": 4,
   "metadata": {},
   "outputs": [],
   "source": [
    "# transform dates to datetime forward\n",
    "df['trending_date'] = pd.to_datetime(df['trending_date'], format='%y.%d.%m')\n",
    "df['publish_time'] = pd.to_datetime(df['publish_time'], format='%Y-%m-%dT%H:%M:%S.%fZ')"
   ]
  },
  {
   "cell_type": "markdown",
   "metadata": {},
   "source": [
    "## Preprocessing and Aggregation"
   ]
  },
  {
   "cell_type": "code",
   "execution_count": 5,
   "metadata": {},
   "outputs": [],
   "source": [
    "# get a snapshot of video lifetime over its trending period\n",
    "\n",
    "df_aff = df.groupby(['video_id']).agg(\n",
    "    # views TRending Starts\n",
    "    views_trs = pd.NamedAgg(column = 'views', aggfunc = 'first'),\n",
    "    \n",
    "    # views TRending Ends\n",
    "    views_tre = pd.NamedAgg(column = 'views', aggfunc = 'last'),\n",
    "    \n",
    "    # same for likes, dislikes and comments\n",
    "    likes_trs = pd.NamedAgg(column = 'likes', aggfunc = 'first'),\n",
    "    likes_tre = pd.NamedAgg(column = 'likes', aggfunc = 'last'),\n",
    "    dislk_trs = pd.NamedAgg(column = 'dislikes', aggfunc = 'first'),\n",
    "    dislk_tre = pd.NamedAgg(column = 'dislikes', aggfunc = 'last'),\n",
    "    comms_trs = pd.NamedAgg(column = 'comment_count', aggfunc = 'first'),\n",
    "    comms_tre = pd.NamedAgg(column = 'comment_count', aggfunc = 'last'),\n",
    "    \n",
    "    # date it gets on trending\n",
    "    trending_start = pd.NamedAgg(column = 'trending_date', aggfunc = min),\n",
    "    trending_end = pd.NamedAgg(column = 'trending_date', aggfunc = max),\n",
    "    # integer value of number of days on trending\n",
    "    days_trending = pd.NamedAgg(column = 'trending_date', aggfunc = lambda d: (max(d) - min(d)).days)\n",
    ")"
   ]
  },
  {
   "cell_type": "code",
   "execution_count": 6,
   "metadata": {},
   "outputs": [],
   "source": [
    "# engineered features\n",
    "df_aff['views_gain'] = df_aff[\"views_tre\"]-df_aff[\"views_trs\"]\n",
    "df_aff['likes_gain'] = df_aff[\"likes_tre\"]-df_aff[\"likes_trs\"]\n",
    "df_aff['dislk_gain'] = df_aff[\"dislk_tre\"]-df_aff[\"dislk_trs\"]\n",
    "df_aff['comms_gain'] = df_aff['comms_tre']-df_aff['comms_trs']"
   ]
  },
  {
   "cell_type": "markdown",
   "metadata": {},
   "source": [
    "### Target Feature Definiton"
   ]
  },
  {
   "cell_type": "code",
   "execution_count": 7,
   "metadata": {},
   "outputs": [
    {
     "data": {
      "image/png": "[encoded data removed]",
      "text/plain": [
       "<Figure size 432x288 with 1 Axes>"
      ]
     },
     "metadata": {
      "needs_background": "light"
     },
     "output_type": "display_data"
    }
   ],
   "source": [
    "# engagement feature\n",
    "\n",
    "df_aff['engagement'] = (10*df_aff['comms_gain'] + df_aff['likes_gain'])/df_aff['views_gain']\n",
    "df_aff = df_aff[(df_aff['engagement'] > -1) & (df_aff['engagement'] < 1)]\n",
    "\n",
    "sns.distplot(df_aff[(df_aff['engagement'] > -0.15) & (df_aff['engagement'] < 0.15)]['engagement']).set_title(\"Distribution of Engagement\")\n",
    "plt.show()"
   ]
  },
  {
   "cell_type": "code",
   "execution_count": 8,
   "metadata": {},
   "outputs": [],
   "source": [
    "df_aff = df_aff.reset_index()"
   ]
  },
  {
   "cell_type": "code",
   "execution_count": 9,
   "metadata": {},
   "outputs": [],
   "source": [
    "# pull additional columns into the new data set\n",
    "df_all = df_aff.merge(df[['video_id','title', 'channel_title', 'category_id','publish_time', 'tags', 'description', 'thumbnail_link']], how = 'right', on = 'video_id')\n",
    "df_all = df_all.drop_duplicates(subset = 'video_id')\n",
    "df_all = df_all.dropna()"
   ]
  },
  {
   "cell_type": "markdown",
   "metadata": {},
   "source": [
    "# Feature Engineering\n",
    "\n",
    "Building a Pipeline to combine categorical, numeric features, with vectors extracted from text fields."
   ]
  },
  {
   "cell_type": "code",
   "execution_count": 28,
   "metadata": {},
   "outputs": [],
   "source": [
    "from sklearn.feature_extraction.text import TfidfVectorizer\n",
    "from sklearn.decomposition import TruncatedSVD\n",
    "from sklearn.pipeline import Pipeline\n",
    "from sklearn.compose import ColumnTransformer\n",
    "from sklearn.preprocessing import StandardScaler\n",
    "from category_encoders.one_hot import OneHotEncoder\n",
    "from sklearn.preprocessing import FunctionTransformer"
   ]
  },
  {
   "cell_type": "markdown",
   "metadata": {},
   "source": [
    "#### Deriving new features using auxiliary functions"
   ]
  },
  {
   "cell_type": "code",
   "execution_count": 29,
   "metadata": {},
   "outputs": [],
   "source": [
    "df_all['thumbnail_contrast'] = df_all['thumbnail_link'].apply(lambda x: thumbnail_contrast(x))\n",
    "df_all = df_all[df_all['thumbnail_contrast'].notnull()]"
   ]
  },
  {
   "cell_type": "code",
   "execution_count": 30,
   "metadata": {},
   "outputs": [],
   "source": [
    "def preprocess(df_all):\n",
    "    out = pd.DataFrame(index = df_all.index)\n",
    "    out['publish_to_trending'] = df_all['trending_start'] - df_all['publish_time']\n",
    "    out['publish_to_trending'] = out['publish_to_trending'].apply(lambda x: x.days)\n",
    "    out['publish_hour'] = df_all['publish_time'].apply(lambda x: x.hour)\n",
    "    \n",
    "    out['thumbnail_contrast'] = df_all['thumbnail_contrast']\n",
    "    out['tags_letters_per_word'] = df_all['tags'].apply(process_tags).apply(letters_per_word)\n",
    "    out['tags_num_words'] = df_all['tags'].apply(process_tags).apply(len)\n",
    "    out['title_has_caps'] = df_all['title'].apply(remove_punctuation).apply(check_upper)\n",
    "    out['title_caps_count'] = df_all['title'].apply(remove_punctuation).apply(count_caps)\n",
    "    out['title_sentiment'] = df_all['title'].apply(get_sentiment)\n",
    "    out['title_exclaimation_mark_count'] = df_all['title'].apply(count_exclaim)\n",
    "    out['title_question_count'] = df_all['title'].apply(count_question)\n",
    "    out['title_emoji_count'] = df_all['title'].apply(count_emoji)\n",
    "    out['desc_url_count'] = df_all['description'].apply(desc_urls_count)\n",
    "    out['desc_lines'] = df_all['description'].apply(desc_lines)\n",
    "    out['desc_caps_count'] = df_all['description'].apply(lambda x: desc_upper(x))\n",
    "    out['desc_len'] = df_all['description'].apply(lambda x: desc_len(x))\n",
    "    out['desc_action_invite'] = df_all['description'].apply(lambda x: len(re.findall(r'\\blike|comment|subscribe\\b',x.lower())))\n",
    "    return out\n"
   ]
  },
  {
   "cell_type": "code",
   "execution_count": 31,
   "metadata": {},
   "outputs": [],
   "source": [
    "# columns used for feature engineering\n",
    "fe_cols = ['trending_start', 'publish_time', 'thumbnail_contrast', 'tags', 'title', 'description']"
   ]
  },
  {
   "cell_type": "code",
   "execution_count": 32,
   "metadata": {},
   "outputs": [],
   "source": [
    "out = preprocess(df_all)"
   ]
  },
  {
   "cell_type": "code",
   "execution_count": 33,
   "metadata": {},
   "outputs": [
    {
     "data": {
      "text/html": [
       "<div>\n",
       "<style scoped>\n",
       "    .dataframe tbody tr th:only-of-type {\n",
       "        vertical-align: middle;\n",
       "    }\n",
       "\n",
       "    .dataframe tbody tr th {\n",
       "        vertical-align: top;\n",
       "    }\n",
       "\n",
       "    .dataframe thead th {\n",
       "        text-align: right;\n",
       "    }\n",
       "</style>\n",
       "<table border=\"1\" class=\"dataframe\">\n",
       "  <thead>\n",
       "    <tr style=\"text-align: right;\">\n",
       "      <th></th>\n",
       "      <th>publish_to_trending</th>\n",
       "      <th>publish_hour</th>\n",
       "      <th>thumbnail_contrast</th>\n",
       "      <th>tags_letters_per_word</th>\n",
       "      <th>tags_num_words</th>\n",
       "      <th>title_has_caps</th>\n",
       "      <th>title_caps_count</th>\n",
       "      <th>title_sentiment</th>\n",
       "      <th>title_exclaimation_mark_count</th>\n",
       "      <th>title_question_count</th>\n",
       "      <th>title_emoji_count</th>\n",
       "      <th>desc_url_count</th>\n",
       "      <th>desc_lines</th>\n",
       "      <th>desc_caps_count</th>\n",
       "      <th>desc_len</th>\n",
       "      <th>desc_action_invite</th>\n",
       "    </tr>\n",
       "  </thead>\n",
       "  <tbody>\n",
       "    <tr>\n",
       "      <th>0</th>\n",
       "      <td>3317</td>\n",
       "      <td>17</td>\n",
       "      <td>83.325508</td>\n",
       "      <td>5.200000</td>\n",
       "      <td>5</td>\n",
       "      <td>0</td>\n",
       "      <td>0</td>\n",
       "      <td>0.5423</td>\n",
       "      <td>0</td>\n",
       "      <td>0</td>\n",
       "      <td>0</td>\n",
       "      <td>0</td>\n",
       "      <td>1</td>\n",
       "      <td>0</td>\n",
       "      <td>4</td>\n",
       "      <td>0</td>\n",
       "    </tr>\n",
       "    <tr>\n",
       "      <th>9</th>\n",
       "      <td>1</td>\n",
       "      <td>13</td>\n",
       "      <td>77.215584</td>\n",
       "      <td>5.112676</td>\n",
       "      <td>71</td>\n",
       "      <td>0</td>\n",
       "      <td>0</td>\n",
       "      <td>0.5719</td>\n",
       "      <td>0</td>\n",
       "      <td>0</td>\n",
       "      <td>0</td>\n",
       "      <td>0</td>\n",
       "      <td>1</td>\n",
       "      <td>0</td>\n",
       "      <td>12</td>\n",
       "      <td>0</td>\n",
       "    </tr>\n",
       "    <tr>\n",
       "      <th>15</th>\n",
       "      <td>1</td>\n",
       "      <td>7</td>\n",
       "      <td>79.438431</td>\n",
       "      <td>5.902439</td>\n",
       "      <td>41</td>\n",
       "      <td>0</td>\n",
       "      <td>0</td>\n",
       "      <td>-0.5994</td>\n",
       "      <td>0</td>\n",
       "      <td>0</td>\n",
       "      <td>0</td>\n",
       "      <td>10</td>\n",
       "      <td>27</td>\n",
       "      <td>11</td>\n",
       "      <td>201</td>\n",
       "      <td>3</td>\n",
       "    </tr>\n",
       "    <tr>\n",
       "      <th>18</th>\n",
       "      <td>0</td>\n",
       "      <td>18</td>\n",
       "      <td>82.283821</td>\n",
       "      <td>5.785714</td>\n",
       "      <td>14</td>\n",
       "      <td>1</td>\n",
       "      <td>9</td>\n",
       "      <td>0.3802</td>\n",
       "      <td>1</td>\n",
       "      <td>0</td>\n",
       "      <td>0</td>\n",
       "      <td>3</td>\n",
       "      <td>13</td>\n",
       "      <td>5</td>\n",
       "      <td>13</td>\n",
       "      <td>0</td>\n",
       "    </tr>\n",
       "    <tr>\n",
       "      <th>22</th>\n",
       "      <td>1</td>\n",
       "      <td>2</td>\n",
       "      <td>85.272774</td>\n",
       "      <td>4.750000</td>\n",
       "      <td>4</td>\n",
       "      <td>0</td>\n",
       "      <td>0</td>\n",
       "      <td>0.5267</td>\n",
       "      <td>0</td>\n",
       "      <td>0</td>\n",
       "      <td>0</td>\n",
       "      <td>0</td>\n",
       "      <td>4</td>\n",
       "      <td>3</td>\n",
       "      <td>38</td>\n",
       "      <td>0</td>\n",
       "    </tr>\n",
       "  </tbody>\n",
       "</table>\n",
       "</div>"
      ],
      "text/plain": [
       "    publish_to_trending  publish_hour  thumbnail_contrast  \\\n",
       "0                  3317            17           83.325508   \n",
       "9                     1            13           77.215584   \n",
       "15                    1             7           79.438431   \n",
       "18                    0            18           82.283821   \n",
       "22                    1             2           85.272774   \n",
       "\n",
       "    tags_letters_per_word  tags_num_words  title_has_caps  title_caps_count  \\\n",
       "0                5.200000               5               0                 0   \n",
       "9                5.112676              71               0                 0   \n",
       "15               5.902439              41               0                 0   \n",
       "18               5.785714              14               1                 9   \n",
       "22               4.750000               4               0                 0   \n",
       "\n",
       "    title_sentiment  title_exclaimation_mark_count  title_question_count  \\\n",
       "0            0.5423                              0                     0   \n",
       "9            0.5719                              0                     0   \n",
       "15          -0.5994                              0                     0   \n",
       "18           0.3802                              1                     0   \n",
       "22           0.5267                              0                     0   \n",
       "\n",
       "    title_emoji_count  desc_url_count  desc_lines  desc_caps_count  desc_len  \\\n",
       "0                   0               0           1                0         4   \n",
       "9                   0               0           1                0        12   \n",
       "15                  0              10          27               11       201   \n",
       "18                  0               3          13                5        13   \n",
       "22                  0               0           4                3        38   \n",
       "\n",
       "    desc_action_invite  \n",
       "0                    0  \n",
       "9                    0  \n",
       "15                   3  \n",
       "18                   0  \n",
       "22                   0  "
      ]
     },
     "execution_count": 33,
     "metadata": {},
     "output_type": "execute_result"
    }
   ],
   "source": [
    "out.head()"
   ]
  },
  {
   "cell_type": "markdown",
   "metadata": {},
   "source": [
    "#### One Hot Encoding category_id"
   ]
  },
  {
   "cell_type": "code",
   "execution_count": 34,
   "metadata": {},
   "outputs": [],
   "source": [
    "ohe = OneHotEncoder(cols='category_id', drop_invariant=True)"
   ]
  },
  {
   "cell_type": "markdown",
   "metadata": {},
   "source": [
    "#### Pipeline for transforming numerical features"
   ]
  },
  {
   "cell_type": "code",
   "execution_count": 35,
   "metadata": {},
   "outputs": [],
   "source": [
    "features_transform = Pipeline([\n",
    "    ('FE-Transformer', FunctionTransformer(preprocess, validate = False)),\n",
    "    ('FE-std', StandardScaler())], verbose = True)"
   ]
  },
  {
   "cell_type": "markdown",
   "metadata": {},
   "source": [
    "#### Transforming text and description into a vector of length 100"
   ]
  },
  {
   "cell_type": "code",
   "execution_count": 36,
   "metadata": {},
   "outputs": [],
   "source": [
    "text_encoder = Pipeline([\n",
    "    ('Text-TF-IDF', TfidfVectorizer(ngram_range=(1, 3))),\n",
    "    ('Text-SVD', TruncatedSVD(n_components = 100))], verbose=True)"
   ]
  },
  {
   "cell_type": "markdown",
   "metadata": {},
   "source": [
    "#### Using ColumnTransformer to combine all processing"
   ]
  },
  {
   "cell_type": "code",
   "execution_count": 37,
   "metadata": {},
   "outputs": [],
   "source": [
    "transformer = ColumnTransformer([\n",
    "    ('title-tr', text_encoder, 'title'),\n",
    "    ('descr-tr', text_encoder, 'description'), \n",
    "    ('category', ohe, 'category_id'),\n",
    "    ('num-features', features_transform, fe_cols)], verbose = True)"
   ]
  },
  {
   "cell_type": "code",
   "execution_count": 38,
   "metadata": {},
   "outputs": [
    {
     "data": {
      "text/plain": [
       "ColumnTransformer(n_jobs=None, remainder='drop', sparse_threshold=0.3,\n",
       "                  transformer_weights=None,\n",
       "                  transformers=[('title-tr',\n",
       "                                 Pipeline(memory=None,\n",
       "                                          steps=[('Text-TF-IDF',\n",
       "                                                  TfidfVectorizer(analyzer='word',\n",
       "                                                                  binary=False,\n",
       "                                                                  decode_error='strict',\n",
       "                                                                  dtype=<class 'numpy.float64'>,\n",
       "                                                                  encoding='utf-8',\n",
       "                                                                  input='content',\n",
       "                                                                  lowercase=True,\n",
       "                                                                  max_df=1.0,\n",
       "                                                                  max_features=None,\n",
       "                                                                  min_df=1,\n",
       "                                                                  ngram_...\n",
       "                                          steps=[('FE-Transformer',\n",
       "                                                  FunctionTransformer(accept_sparse=False,\n",
       "                                                                      check_inverse=True,\n",
       "                                                                      func=<function preprocess at 0x7f24bf4f4ef0>,\n",
       "                                                                      inv_kw_args=None,\n",
       "                                                                      inverse_func=None,\n",
       "                                                                      kw_args=None,\n",
       "                                                                      validate=False)),\n",
       "                                                 ('FE-std',\n",
       "                                                  StandardScaler(copy=True,\n",
       "                                                                 with_mean=True,\n",
       "                                                                 with_std=True))],\n",
       "                                          verbose=True),\n",
       "                                 ['trending_start', 'publish_time',\n",
       "                                  'thumbnail_contrast', 'tags', 'title',\n",
       "                                  'description'])],\n",
       "                  verbose=True)"
      ]
     },
     "execution_count": 38,
     "metadata": {},
     "output_type": "execute_result"
    }
   ],
   "source": [
    "transformer"
   ]
  },
  {
   "cell_type": "markdown",
   "metadata": {},
   "source": [
    "## Inference\n",
    "\n",
    "Separating the target and performing the split of the dataset into train, test and validation."
   ]
  },
  {
   "cell_type": "code",
   "execution_count": 120,
   "metadata": {},
   "outputs": [],
   "source": [
    "y = df_all['engagement']\n",
    "X = df_all.drop('engagement', axis = 1)\n",
    "X_train, X_test, y_train, y_test = train_test_split(X,y, test_size = 0.1, random_state = 10)\n",
    "X_val, X_test, y_val, y_test = train_test_split(X_test,y_test, test_size = 0.5, random_state = 10)"
   ]
  },
  {
   "cell_type": "markdown",
   "metadata": {},
   "source": [
    "Applying our transformations"
   ]
  },
  {
   "cell_type": "code",
   "execution_count": 121,
   "metadata": {},
   "outputs": [
    {
     "name": "stdout",
     "output_type": "stream",
     "text": [
      "[Pipeline] ....... (step 1 of 2) Processing Text-TF-IDF, total=   0.5s\n",
      "[Pipeline] .......... (step 2 of 2) Processing Text-SVD, total=   3.8s\n",
      "[ColumnTransformer] ...... (1 of 4) Processing title-tr, total=   4.3s\n",
      "[Pipeline] ....... (step 1 of 2) Processing Text-TF-IDF, total=   9.5s\n",
      "[Pipeline] .......... (step 2 of 2) Processing Text-SVD, total=  57.4s\n",
      "[ColumnTransformer] ...... (2 of 4) Processing descr-tr, total= 1.1min\n",
      "[ColumnTransformer] ...... (3 of 4) Processing category, total=   0.0s\n",
      "[Pipeline] .... (step 1 of 2) Processing FE-Transformer, total= 1.5min\n",
      "[Pipeline] ............ (step 2 of 2) Processing FE-std, total=   0.0s\n",
      "[ColumnTransformer] .. (4 of 4) Processing num-features, total= 1.5min\n"
     ]
    }
   ],
   "source": [
    "X_train = transformer.fit_transform(X_train)\n",
    "X_test = transformer.transform(X_test)\n",
    "X_val = transformer.transform(X_val)"
   ]
  },
  {
   "cell_type": "code",
   "execution_count": 122,
   "metadata": {},
   "outputs": [],
   "source": [
    "y_train = y_train.values\n",
    "y_test = y_test.values\n",
    "y_val = y_val.values"
   ]
  },
  {
   "cell_type": "markdown",
   "metadata": {},
   "source": [
    "## MLP Regressor model"
   ]
  },
  {
   "cell_type": "code",
   "execution_count": 123,
   "metadata": {},
   "outputs": [
    {
     "data": {
      "text/plain": [
       "MLPRegressor(activation='relu', alpha=0.0001, batch_size='auto', beta_1=0.5,\n",
       "             beta_2=0.95, early_stopping=False, epsilon=1e-08,\n",
       "             hidden_layer_sizes=(3,), learning_rate='adaptive',\n",
       "             learning_rate_init=0.01, max_fun=15000, max_iter=5000,\n",
       "             momentum=0.9, n_iter_no_change=10, nesterovs_momentum=True,\n",
       "             power_t=0.5, random_state=9, shuffle=True, solver='adam',\n",
       "             tol=0.0001, validation_fraction=0.15, verbose=False,\n",
       "             warm_start=False)"
      ]
     },
     "execution_count": 123,
     "metadata": {},
     "output_type": "execute_result"
    }
   ],
   "source": [
    "from sklearn.neural_network import MLPRegressor\n",
    "mlpreg = MLPRegressor(hidden_layer_sizes=(3,), activation='relu',\n",
    "         solver='adam', alpha=0.0001, batch_size='auto',\n",
    "         learning_rate='adaptive', learning_rate_init=0.01,\n",
    "         power_t=0.5, max_iter=5000, shuffle=True, random_state=9,\n",
    "         tol=0.0001, verbose=False, warm_start=False, momentum=0.9,\n",
    "         nesterovs_momentum=True, early_stopping=False,\n",
    "         validation_fraction=0.15, beta_1=0.5, beta_2=0.95,\n",
    "         epsilon=1e-08)\n",
    "\n",
    "mlpreg.fit(X_train,y_train)"
   ]
  },
  {
   "cell_type": "code",
   "execution_count": 124,
   "metadata": {},
   "outputs": [],
   "source": [
    "y_pred = mlpreg.predict(X_test)"
   ]
  },
  {
   "cell_type": "code",
   "execution_count": 125,
   "metadata": {},
   "outputs": [
    {
     "data": {
      "text/plain": [
       "0.02637048805882232"
      ]
     },
     "execution_count": 125,
     "metadata": {},
     "output_type": "execute_result"
    }
   ],
   "source": [
    "mean_absolute_error(y_test, y_pred)\n",
    "# prints 0.02637048805882232"
   ]
  },
  {
   "cell_type": "markdown",
   "metadata": {},
   "source": [
    "## XGBoost with Bayesian Optimisation\n",
    "\n",
    "Bayesian Optimisation isn't guaranteed to provide reproducible results, but it is suitable for quick hyperparameter tuning while iterating over models."
   ]
  },
  {
   "cell_type": "code",
   "execution_count": 127,
   "metadata": {},
   "outputs": [
    {
     "name": "stdout",
     "output_type": "stream",
     "text": [
      "|   iter    |  target   | colsam... |    eta    | max_depth | subsample |\n",
      "-------------------------------------------------------------------------\n",
      "| \u001b[0m 1       \u001b[0m | \u001b[0m-0.03911 \u001b[0m | \u001b[0m 0.8364  \u001b[0m | \u001b[0m 0.188   \u001b[0m | \u001b[0m 4.748   \u001b[0m | \u001b[0m 0.5976  \u001b[0m |\n",
      "| \u001b[0m 2       \u001b[0m | \u001b[0m-0.03942 \u001b[0m | \u001b[0m 0.9766  \u001b[0m | \u001b[0m 0.1665  \u001b[0m | \u001b[0m 8.105   \u001b[0m | \u001b[0m 0.5955  \u001b[0m |\n",
      "| \u001b[95m 3       \u001b[0m | \u001b[95m-0.03669 \u001b[0m | \u001b[95m 0.7782  \u001b[0m | \u001b[95m 0.1794  \u001b[0m | \u001b[95m 6.936   \u001b[0m | \u001b[95m 0.8305  \u001b[0m |\n",
      "| \u001b[95m 4       \u001b[0m | \u001b[95m-0.03617 \u001b[0m | \u001b[95m 0.9341  \u001b[0m | \u001b[95m 0.1169  \u001b[0m | \u001b[95m 9.401   \u001b[0m | \u001b[95m 0.7192  \u001b[0m |\n",
      "| \u001b[0m 5       \u001b[0m | \u001b[0m-0.05404 \u001b[0m | \u001b[0m 0.8669  \u001b[0m | \u001b[0m 0.3759  \u001b[0m | \u001b[0m 7.854   \u001b[0m | \u001b[0m 0.3746  \u001b[0m |\n",
      "| \u001b[0m 6       \u001b[0m | \u001b[0m-0.03962 \u001b[0m | \u001b[0m 0.55    \u001b[0m | \u001b[0m 0.2064  \u001b[0m | \u001b[0m 9.462   \u001b[0m | \u001b[0m 0.5183  \u001b[0m |\n",
      "| \u001b[0m 7       \u001b[0m | \u001b[0m-0.05364 \u001b[0m | \u001b[0m 0.5627  \u001b[0m | \u001b[0m 0.3713  \u001b[0m | \u001b[0m 7.293   \u001b[0m | \u001b[0m 0.3689  \u001b[0m |\n",
      "| \u001b[0m 8       \u001b[0m | \u001b[0m-0.03845 \u001b[0m | \u001b[0m 0.5415  \u001b[0m | \u001b[0m 0.1298  \u001b[0m | \u001b[0m 9.957   \u001b[0m | \u001b[0m 0.5358  \u001b[0m |\n",
      "| \u001b[0m 9       \u001b[0m | \u001b[0m-0.04178 \u001b[0m | \u001b[0m 0.5953  \u001b[0m | \u001b[0m 0.1978  \u001b[0m | \u001b[0m 4.642   \u001b[0m | \u001b[0m 0.4856  \u001b[0m |\n",
      "| \u001b[95m 10      \u001b[0m | \u001b[95m-0.0353  \u001b[0m | \u001b[95m 0.7962  \u001b[0m | \u001b[95m 0.2771  \u001b[0m | \u001b[95m 9.158   \u001b[0m | \u001b[95m 0.9699  \u001b[0m |\n",
      "| \u001b[95m 11      \u001b[0m | \u001b[95m-0.03442 \u001b[0m | \u001b[95m 0.3749  \u001b[0m | \u001b[95m 0.1195  \u001b[0m | \u001b[95m 4.009   \u001b[0m | \u001b[95m 0.9989  \u001b[0m |\n",
      "| \u001b[95m 12      \u001b[0m | \u001b[95m-0.03427 \u001b[0m | \u001b[95m 0.3375  \u001b[0m | \u001b[95m 0.1061  \u001b[0m | \u001b[95m 8.919   \u001b[0m | \u001b[95m 0.9962  \u001b[0m |\n",
      "| \u001b[95m 13      \u001b[0m | \u001b[95m-0.03394 \u001b[0m | \u001b[95m 0.9991  \u001b[0m | \u001b[95m 0.11    \u001b[0m | \u001b[95m 4.636   \u001b[0m | \u001b[95m 0.9907  \u001b[0m |\n",
      "| \u001b[0m 14      \u001b[0m | \u001b[0m-0.03665 \u001b[0m | \u001b[0m 1.0     \u001b[0m | \u001b[0m 0.1     \u001b[0m | \u001b[0m 10.0    \u001b[0m | \u001b[0m 1.0     \u001b[0m |\n",
      "| \u001b[95m 15      \u001b[0m | \u001b[95m-0.0336  \u001b[0m | \u001b[95m 0.5539  \u001b[0m | \u001b[95m 0.1021  \u001b[0m | \u001b[95m 5.352   \u001b[0m | \u001b[95m 0.9866  \u001b[0m |\n",
      "| \u001b[0m 16      \u001b[0m | \u001b[0m-0.03453 \u001b[0m | \u001b[0m 0.9032  \u001b[0m | \u001b[0m 0.1079  \u001b[0m | \u001b[0m 6.695   \u001b[0m | \u001b[0m 0.9981  \u001b[0m |\n",
      "| \u001b[0m 17      \u001b[0m | \u001b[0m-0.03534 \u001b[0m | \u001b[0m 0.9841  \u001b[0m | \u001b[0m 0.1023  \u001b[0m | \u001b[0m 8.084   \u001b[0m | \u001b[0m 0.9989  \u001b[0m |\n",
      "| \u001b[0m 18      \u001b[0m | \u001b[0m-0.03431 \u001b[0m | \u001b[0m 0.8097  \u001b[0m | \u001b[0m 0.1016  \u001b[0m | \u001b[0m 4.046   \u001b[0m | \u001b[0m 0.9215  \u001b[0m |\n",
      "| \u001b[0m 19      \u001b[0m | \u001b[0m-0.03442 \u001b[0m | \u001b[0m 0.3434  \u001b[0m | \u001b[0m 0.1012  \u001b[0m | \u001b[0m 9.498   \u001b[0m | \u001b[0m 0.9971  \u001b[0m |\n",
      "| \u001b[0m 20      \u001b[0m | \u001b[0m-0.03581 \u001b[0m | \u001b[0m 0.9594  \u001b[0m | \u001b[0m 0.1006  \u001b[0m | \u001b[0m 5.849   \u001b[0m | \u001b[0m 0.9954  \u001b[0m |\n",
      "| \u001b[0m 21      \u001b[0m | \u001b[0m-0.03437 \u001b[0m | \u001b[0m 0.5818  \u001b[0m | \u001b[0m 0.1031  \u001b[0m | \u001b[0m 4.777   \u001b[0m | \u001b[0m 0.9921  \u001b[0m |\n",
      "| \u001b[0m 22      \u001b[0m | \u001b[0m-0.03382 \u001b[0m | \u001b[0m 0.374   \u001b[0m | \u001b[0m 0.11    \u001b[0m | \u001b[0m 6.71    \u001b[0m | \u001b[0m 0.9885  \u001b[0m |\n",
      "| \u001b[0m 23      \u001b[0m | \u001b[0m-0.0354  \u001b[0m | \u001b[0m 0.7999  \u001b[0m | \u001b[0m 0.1143  \u001b[0m | \u001b[0m 9.041   \u001b[0m | \u001b[0m 0.9873  \u001b[0m |\n",
      "| \u001b[95m 24      \u001b[0m | \u001b[95m-0.03345 \u001b[0m | \u001b[95m 0.4397  \u001b[0m | \u001b[95m 0.1096  \u001b[0m | \u001b[95m 7.632   \u001b[0m | \u001b[95m 0.9995  \u001b[0m |\n",
      "| \u001b[0m 25      \u001b[0m | \u001b[0m-0.03346 \u001b[0m | \u001b[0m 0.4059  \u001b[0m | \u001b[0m 0.1033  \u001b[0m | \u001b[0m 4.858   \u001b[0m | \u001b[0m 0.9975  \u001b[0m |\n",
      "| \u001b[0m 26      \u001b[0m | \u001b[0m-0.03471 \u001b[0m | \u001b[0m 0.4443  \u001b[0m | \u001b[0m 0.1013  \u001b[0m | \u001b[0m 6.365   \u001b[0m | \u001b[0m 0.992   \u001b[0m |\n",
      "| \u001b[0m 27      \u001b[0m | \u001b[0m-0.03434 \u001b[0m | \u001b[0m 0.651   \u001b[0m | \u001b[0m 0.101   \u001b[0m | \u001b[0m 7.802   \u001b[0m | \u001b[0m 0.9895  \u001b[0m |\n",
      "| \u001b[0m 28      \u001b[0m | \u001b[0m-0.03354 \u001b[0m | \u001b[0m 0.3067  \u001b[0m | \u001b[0m 0.1019  \u001b[0m | \u001b[0m 4.086   \u001b[0m | \u001b[0m 0.9788  \u001b[0m |\n",
      "| \u001b[0m 29      \u001b[0m | \u001b[0m-0.03372 \u001b[0m | \u001b[0m 0.8267  \u001b[0m | \u001b[0m 0.1008  \u001b[0m | \u001b[0m 4.019   \u001b[0m | \u001b[0m 0.8949  \u001b[0m |\n",
      "| \u001b[0m 30      \u001b[0m | \u001b[0m-0.03386 \u001b[0m | \u001b[0m 0.3835  \u001b[0m | \u001b[0m 0.1035  \u001b[0m | \u001b[0m 4.554   \u001b[0m | \u001b[0m 0.9713  \u001b[0m |\n",
      "=========================================================================\n"
     ]
    }
   ],
   "source": [
    "from sklearn.model_selection import cross_val_score,KFold\n",
    "from sklearn.model_selection import train_test_split\n",
    "import xgboost as xgb\n",
    "from xgboost import plot_importance\n",
    "from bayes_opt import BayesianOptimization\n",
    "\n",
    "dmatrix_tr = xgb.DMatrix(X_train, label = y_train)\n",
    "dmatrix_val = xgb.DMatrix(X_val, label = y_val)\n",
    "dtest = xgb.DMatrix(X_test)\n",
    "\n",
    "def xgb_func(max_depth, eta, subsample, colsample_bytree):\n",
    "    params = {'eval_metric': 'mae',\n",
    "            'max_depth': int(max_depth),\n",
    "            'eta': eta,\n",
    "            'subsample' : subsample,\n",
    "            'colsample_bytree': colsample_bytree}\n",
    "    cross_val = xgb.cv(params = params, \n",
    "                 dtrain = dmatrix_val, \n",
    "                 num_boost_round = 50,\n",
    "                 nfold = 3)\n",
    "    #Bayesian Optimization can only maximize, so define as -1 * error\n",
    "    return -1.0*cross_val['test-mae-mean'].iloc[-1]\n",
    "\n",
    "# Define the range of parameter values over which Bayesian Optimization should run\n",
    "xgb_bo = BayesianOptimization(xgb_func, \n",
    "                              {'max_depth': (4,10),\n",
    "                               'eta': (0.1, 0.4),\n",
    "                               'subsample': (0.3, 1.0),\n",
    "                               'colsample_bytree' :(0.3, 1.0)})\n",
    "\n",
    "xgb_bo.maximize(init_points = 10, n_iter = 20, acq='ei')"
   ]
  },
  {
   "cell_type": "code",
   "execution_count": 128,
   "metadata": {},
   "outputs": [
    {
     "name": "stdout",
     "output_type": "stream",
     "text": [
      "{'colsample_bytree': 0.4396506235494122, 'eta': 0.1096410606876233, 'max_depth': 7.6321348130960125, 'subsample': 0.9994830800691745}\n"
     ]
    }
   ],
   "source": [
    "params = xgb_bo.max['params']\n",
    "print(params)\n",
    "params['max_depth'] = int(params['max_depth'])\n",
    "\n",
    "#adding other parameters\n",
    "params['objective'] = 'reg:linear'\n",
    "params['silent'] = 1"
   ]
  },
  {
   "cell_type": "code",
   "execution_count": 129,
   "metadata": {},
   "outputs": [
    {
     "name": "stdout",
     "output_type": "stream",
     "text": [
      "[0]\tval-rmse:0.41345\n",
      "Will train until val-rmse hasn't improved in 10 rounds.\n",
      "[1]\tval-rmse:0.36900\n",
      "[2]\tval-rmse:0.32966\n",
      "[3]\tval-rmse:0.29450\n",
      "[4]\tval-rmse:0.26362\n",
      "[5]\tval-rmse:0.23602\n",
      "[6]\tval-rmse:0.21160\n",
      "[7]\tval-rmse:0.19027\n",
      "[8]\tval-rmse:0.17144\n",
      "[9]\tval-rmse:0.15486\n",
      "[10]\tval-rmse:0.14044\n",
      "[11]\tval-rmse:0.12772\n",
      "[12]\tval-rmse:0.11676\n",
      "[13]\tval-rmse:0.10709\n",
      "[14]\tval-rmse:0.09871\n",
      "[15]\tval-rmse:0.09145\n",
      "[16]\tval-rmse:0.08527\n",
      "[17]\tval-rmse:0.07991\n",
      "[18]\tval-rmse:0.07545\n",
      "[19]\tval-rmse:0.07187\n",
      "[20]\tval-rmse:0.06878\n",
      "[21]\tval-rmse:0.06623\n",
      "[22]\tval-rmse:0.06410\n",
      "[23]\tval-rmse:0.06238\n",
      "[24]\tval-rmse:0.06084\n",
      "[25]\tval-rmse:0.05977\n",
      "[26]\tval-rmse:0.05883\n",
      "[27]\tval-rmse:0.05805\n",
      "[28]\tval-rmse:0.05736\n",
      "[29]\tval-rmse:0.05680\n",
      "[30]\tval-rmse:0.05638\n",
      "[31]\tval-rmse:0.05608\n",
      "[32]\tval-rmse:0.05581\n",
      "[33]\tval-rmse:0.05563\n",
      "[34]\tval-rmse:0.05544\n",
      "[35]\tval-rmse:0.05527\n",
      "[36]\tval-rmse:0.05515\n",
      "[37]\tval-rmse:0.05522\n",
      "[38]\tval-rmse:0.05513\n",
      "[39]\tval-rmse:0.05512\n",
      "[40]\tval-rmse:0.05513\n",
      "[41]\tval-rmse:0.05505\n",
      "[42]\tval-rmse:0.05503\n",
      "[43]\tval-rmse:0.05493\n",
      "[44]\tval-rmse:0.05499\n",
      "[45]\tval-rmse:0.05490\n",
      "[46]\tval-rmse:0.05490\n",
      "[47]\tval-rmse:0.05487\n",
      "[48]\tval-rmse:0.05488\n",
      "[49]\tval-rmse:0.05484\n",
      "[50]\tval-rmse:0.05484\n",
      "[51]\tval-rmse:0.05490\n",
      "[52]\tval-rmse:0.05492\n",
      "[53]\tval-rmse:0.05498\n",
      "[54]\tval-rmse:0.05499\n",
      "[55]\tval-rmse:0.05505\n",
      "[56]\tval-rmse:0.05505\n",
      "[57]\tval-rmse:0.05496\n",
      "[58]\tval-rmse:0.05492\n",
      "[59]\tval-rmse:0.05478\n",
      "[60]\tval-rmse:0.05479\n",
      "[61]\tval-rmse:0.05477\n",
      "[62]\tval-rmse:0.05477\n",
      "[63]\tval-rmse:0.05482\n",
      "[64]\tval-rmse:0.05484\n",
      "[65]\tval-rmse:0.05489\n",
      "[66]\tval-rmse:0.05488\n",
      "[67]\tval-rmse:0.05483\n",
      "[68]\tval-rmse:0.05483\n",
      "[69]\tval-rmse:0.05480\n",
      "[70]\tval-rmse:0.05470\n",
      "[71]\tval-rmse:0.05473\n",
      "[72]\tval-rmse:0.05476\n",
      "[73]\tval-rmse:0.05475\n",
      "[74]\tval-rmse:0.05478\n",
      "[75]\tval-rmse:0.05477\n",
      "[76]\tval-rmse:0.05478\n",
      "[77]\tval-rmse:0.05480\n",
      "[78]\tval-rmse:0.05478\n",
      "[79]\tval-rmse:0.05479\n",
      "[80]\tval-rmse:0.05484\n",
      "Stopping. Best iteration:\n",
      "[70]\tval-rmse:0.05470\n",
      "\n"
     ]
    }
   ],
   "source": [
    "# defining the XGBoost model\n",
    "model = xgb.train(params = params,\n",
    "                  dtrain = dmatrix_tr,\n",
    "                  num_boost_round = 200,\n",
    "                  evals = [(dmatrix_val, 'val')], \n",
    "                  early_stopping_rounds=10)"
   ]
  },
  {
   "cell_type": "code",
   "execution_count": 130,
   "metadata": {},
   "outputs": [
    {
     "data": {
      "text/plain": [
       "0.02481538307747204"
      ]
     },
     "execution_count": 130,
     "metadata": {},
     "output_type": "execute_result"
    }
   ],
   "source": [
    "y_pred = model.predict(dtest)\n",
    "mean_absolute_error(y_pred,y_test)\n",
    "# prints 0.02481538307747204"
   ]
  },
  {
   "cell_type": "code",
   "execution_count": 136,
   "metadata": {},
   "outputs": [
    {
     "data": {
      "image/png": "[encoded data removed]",
      "text/plain": [
       "<Figure size 432x288 with 1 Axes>"
      ]
     },
     "metadata": {
      "needs_background": "light"
     },
     "output_type": "display_data"
    }
   ],
   "source": [
    "sns.distplot(y_test , color=\"skyblue\", label=\"Test\")\n",
    "sns.distplot(y_pred , color=\"green\", label=\"Predicted\")\n",
    "# sns.plt.legend()\n",
    "plt.xlim([-0.05, 0.15])\n",
    "plt.legend()\n",
    "plt.grid()\n",
    "plt.title('Distribution of Engagement Values')\n",
    "plt.xlabel('Engagement')\n",
    "plt.show()"
   ]
  }
 ],
 "metadata": {
  "kernelspec": {
   "display_name": "Python 3",
   "language": "python",
   "name": "python3"
  },
  "language_info": {
   "codemirror_mode": {
    "name": "ipython",
    "version": 3
   },
   "file_extension": ".py",
   "mimetype": "text/x-python",
   "name": "python",
   "nbconvert_exporter": "python",
   "pygments_lexer": "ipython3",
   "version": "3.8.0"
  }
 },
 "nbformat": 4,
 "nbformat_minor": 4
}
